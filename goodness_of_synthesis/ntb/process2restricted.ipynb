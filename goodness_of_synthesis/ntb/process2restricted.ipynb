{
 "cells": [
  {
   "cell_type": "code",
   "execution_count": 1,
   "id": "49c2b03b-daea-4329-9498-17da61cc0245",
   "metadata": {},
   "outputs": [],
   "source": [
    "import pandas as pd\n",
    "import numpy as np\n",
    "from tqdm import tqdm "
   ]
  },
  {
   "cell_type": "code",
   "execution_count": 2,
   "id": "5c6736c7-90a8-4d37-b349-2f9e8417b676",
   "metadata": {},
   "outputs": [
    {
     "data": {
      "text/html": [
       "<div>\n",
       "<style scoped>\n",
       "    .dataframe tbody tr th:only-of-type {\n",
       "        vertical-align: middle;\n",
       "    }\n",
       "\n",
       "    .dataframe tbody tr th {\n",
       "        vertical-align: top;\n",
       "    }\n",
       "\n",
       "    .dataframe thead th {\n",
       "        text-align: right;\n",
       "    }\n",
       "</style>\n",
       "<table border=\"1\" class=\"dataframe\">\n",
       "  <thead>\n",
       "    <tr style=\"text-align: right;\">\n",
       "      <th></th>\n",
       "      <th>PN</th>\n",
       "      <th>SECU</th>\n",
       "      <th>STRATUM</th>\n",
       "      <th>PWGTR</th>\n",
       "      <th>HCAP16WGTR</th>\n",
       "      <th>PINSAMP</th>\n",
       "      <th>PIWWAVE</th>\n",
       "      <th>PIWYEAR</th>\n",
       "      <th>PMARST</th>\n",
       "      <th>PNURSHM</th>\n",
       "      <th>...</th>\n",
       "      <th>x3x4</th>\n",
       "      <th>x3x5</th>\n",
       "      <th>x3x6</th>\n",
       "      <th>x3x7</th>\n",
       "      <th>x4x5</th>\n",
       "      <th>x4x6</th>\n",
       "      <th>x4x7</th>\n",
       "      <th>x5x6</th>\n",
       "      <th>x5x7</th>\n",
       "      <th>x6x7</th>\n",
       "    </tr>\n",
       "    <tr>\n",
       "      <th>HHID</th>\n",
       "      <th></th>\n",
       "      <th></th>\n",
       "      <th></th>\n",
       "      <th></th>\n",
       "      <th></th>\n",
       "      <th></th>\n",
       "      <th></th>\n",
       "      <th></th>\n",
       "      <th></th>\n",
       "      <th></th>\n",
       "      <th></th>\n",
       "      <th></th>\n",
       "      <th></th>\n",
       "      <th></th>\n",
       "      <th></th>\n",
       "      <th></th>\n",
       "      <th></th>\n",
       "      <th></th>\n",
       "      <th></th>\n",
       "      <th></th>\n",
       "      <th></th>\n",
       "    </tr>\n",
       "  </thead>\n",
       "  <tbody>\n",
       "    <tr>\n",
       "      <th>010001</th>\n",
       "      <td>010</td>\n",
       "      <td>2.0</td>\n",
       "      <td>1.0</td>\n",
       "      <td>7558.0</td>\n",
       "      <td>NaN</td>\n",
       "      <td>1.0</td>\n",
       "      <td>1.0</td>\n",
       "      <td>2016.0</td>\n",
       "      <td>4.0</td>\n",
       "      <td>5.0</td>\n",
       "      <td>...</td>\n",
       "      <td>0.0</td>\n",
       "      <td>0.0</td>\n",
       "      <td>0.0</td>\n",
       "      <td>0.000000</td>\n",
       "      <td>-0.056281</td>\n",
       "      <td>-0.045795</td>\n",
       "      <td>0.0</td>\n",
       "      <td>0.0</td>\n",
       "      <td>0.0</td>\n",
       "      <td>0.0</td>\n",
       "    </tr>\n",
       "    <tr>\n",
       "      <th>010003</th>\n",
       "      <td>030</td>\n",
       "      <td>2.0</td>\n",
       "      <td>1.0</td>\n",
       "      <td>6900.0</td>\n",
       "      <td>NaN</td>\n",
       "      <td>1.0</td>\n",
       "      <td>1.0</td>\n",
       "      <td>2016.0</td>\n",
       "      <td>3.0</td>\n",
       "      <td>5.0</td>\n",
       "      <td>...</td>\n",
       "      <td>0.0</td>\n",
       "      <td>0.0</td>\n",
       "      <td>0.0</td>\n",
       "      <td>0.000000</td>\n",
       "      <td>-0.056281</td>\n",
       "      <td>-0.045795</td>\n",
       "      <td>4.0</td>\n",
       "      <td>0.0</td>\n",
       "      <td>0.0</td>\n",
       "      <td>0.0</td>\n",
       "    </tr>\n",
       "    <tr>\n",
       "      <th>010004</th>\n",
       "      <td>040</td>\n",
       "      <td>2.0</td>\n",
       "      <td>1.0</td>\n",
       "      <td>5836.0</td>\n",
       "      <td>17148.0</td>\n",
       "      <td>1.0</td>\n",
       "      <td>1.0</td>\n",
       "      <td>2016.0</td>\n",
       "      <td>3.0</td>\n",
       "      <td>5.0</td>\n",
       "      <td>...</td>\n",
       "      <td>0.0</td>\n",
       "      <td>0.0</td>\n",
       "      <td>0.0</td>\n",
       "      <td>0.000000</td>\n",
       "      <td>-0.056281</td>\n",
       "      <td>-0.045795</td>\n",
       "      <td>0.0</td>\n",
       "      <td>0.0</td>\n",
       "      <td>0.0</td>\n",
       "      <td>0.0</td>\n",
       "    </tr>\n",
       "    <tr>\n",
       "      <th>010013</th>\n",
       "      <td>040</td>\n",
       "      <td>2.0</td>\n",
       "      <td>1.0</td>\n",
       "      <td>5768.0</td>\n",
       "      <td>NaN</td>\n",
       "      <td>1.0</td>\n",
       "      <td>1.0</td>\n",
       "      <td>2016.0</td>\n",
       "      <td>2.0</td>\n",
       "      <td>5.0</td>\n",
       "      <td>...</td>\n",
       "      <td>0.0</td>\n",
       "      <td>0.0</td>\n",
       "      <td>0.0</td>\n",
       "      <td>0.000000</td>\n",
       "      <td>-0.056281</td>\n",
       "      <td>-0.045795</td>\n",
       "      <td>1.0</td>\n",
       "      <td>0.0</td>\n",
       "      <td>0.0</td>\n",
       "      <td>0.0</td>\n",
       "    </tr>\n",
       "    <tr>\n",
       "      <th>010038</th>\n",
       "      <td>010</td>\n",
       "      <td>2.0</td>\n",
       "      <td>2.0</td>\n",
       "      <td>6573.0</td>\n",
       "      <td>16431.0</td>\n",
       "      <td>1.0</td>\n",
       "      <td>1.0</td>\n",
       "      <td>2016.0</td>\n",
       "      <td>1.0</td>\n",
       "      <td>5.0</td>\n",
       "      <td>...</td>\n",
       "      <td>0.0</td>\n",
       "      <td>0.0</td>\n",
       "      <td>0.0</td>\n",
       "      <td>0.006944</td>\n",
       "      <td>-0.056281</td>\n",
       "      <td>-0.045795</td>\n",
       "      <td>0.0</td>\n",
       "      <td>0.0</td>\n",
       "      <td>0.0</td>\n",
       "      <td>0.0</td>\n",
       "    </tr>\n",
       "    <tr>\n",
       "      <th>...</th>\n",
       "      <td>...</td>\n",
       "      <td>...</td>\n",
       "      <td>...</td>\n",
       "      <td>...</td>\n",
       "      <td>...</td>\n",
       "      <td>...</td>\n",
       "      <td>...</td>\n",
       "      <td>...</td>\n",
       "      <td>...</td>\n",
       "      <td>...</td>\n",
       "      <td>...</td>\n",
       "      <td>...</td>\n",
       "      <td>...</td>\n",
       "      <td>...</td>\n",
       "      <td>...</td>\n",
       "      <td>...</td>\n",
       "      <td>...</td>\n",
       "      <td>...</td>\n",
       "      <td>...</td>\n",
       "      <td>...</td>\n",
       "      <td>...</td>\n",
       "    </tr>\n",
       "    <tr>\n",
       "      <th>923525</th>\n",
       "      <td>010</td>\n",
       "      <td>1.0</td>\n",
       "      <td>51.0</td>\n",
       "      <td>1214.0</td>\n",
       "      <td>NaN</td>\n",
       "      <td>1.0</td>\n",
       "      <td>1.0</td>\n",
       "      <td>2016.0</td>\n",
       "      <td>1.0</td>\n",
       "      <td>5.0</td>\n",
       "      <td>...</td>\n",
       "      <td>0.0</td>\n",
       "      <td>0.0</td>\n",
       "      <td>0.0</td>\n",
       "      <td>0.000000</td>\n",
       "      <td>0.943719</td>\n",
       "      <td>-0.045795</td>\n",
       "      <td>2.0</td>\n",
       "      <td>0.0</td>\n",
       "      <td>2.0</td>\n",
       "      <td>0.0</td>\n",
       "    </tr>\n",
       "    <tr>\n",
       "      <th>923525</th>\n",
       "      <td>020</td>\n",
       "      <td>1.0</td>\n",
       "      <td>51.0</td>\n",
       "      <td>1477.0</td>\n",
       "      <td>NaN</td>\n",
       "      <td>1.0</td>\n",
       "      <td>1.0</td>\n",
       "      <td>2017.0</td>\n",
       "      <td>1.0</td>\n",
       "      <td>5.0</td>\n",
       "      <td>...</td>\n",
       "      <td>0.0</td>\n",
       "      <td>0.0</td>\n",
       "      <td>0.0</td>\n",
       "      <td>0.000000</td>\n",
       "      <td>-0.056281</td>\n",
       "      <td>-0.045795</td>\n",
       "      <td>0.0</td>\n",
       "      <td>0.0</td>\n",
       "      <td>0.0</td>\n",
       "      <td>0.0</td>\n",
       "    </tr>\n",
       "    <tr>\n",
       "      <th>952836</th>\n",
       "      <td>010</td>\n",
       "      <td>2.0</td>\n",
       "      <td>12.0</td>\n",
       "      <td>1041.0</td>\n",
       "      <td>NaN</td>\n",
       "      <td>1.0</td>\n",
       "      <td>1.0</td>\n",
       "      <td>2016.0</td>\n",
       "      <td>2.0</td>\n",
       "      <td>5.0</td>\n",
       "      <td>...</td>\n",
       "      <td>0.0</td>\n",
       "      <td>0.0</td>\n",
       "      <td>0.0</td>\n",
       "      <td>-0.000000</td>\n",
       "      <td>-0.056281</td>\n",
       "      <td>0.954205</td>\n",
       "      <td>-6.0</td>\n",
       "      <td>0.0</td>\n",
       "      <td>-0.0</td>\n",
       "      <td>-6.0</td>\n",
       "    </tr>\n",
       "    <tr>\n",
       "      <th>958361</th>\n",
       "      <td>010</td>\n",
       "      <td>2.0</td>\n",
       "      <td>7.0</td>\n",
       "      <td>2028.0</td>\n",
       "      <td>NaN</td>\n",
       "      <td>1.0</td>\n",
       "      <td>1.0</td>\n",
       "      <td>2016.0</td>\n",
       "      <td>2.0</td>\n",
       "      <td>5.0</td>\n",
       "      <td>...</td>\n",
       "      <td>0.0</td>\n",
       "      <td>0.0</td>\n",
       "      <td>0.0</td>\n",
       "      <td>-0.000000</td>\n",
       "      <td>-0.056281</td>\n",
       "      <td>-0.045795</td>\n",
       "      <td>-0.0</td>\n",
       "      <td>0.0</td>\n",
       "      <td>-1.0</td>\n",
       "      <td>-0.0</td>\n",
       "    </tr>\n",
       "    <tr>\n",
       "      <th>959738</th>\n",
       "      <td>010</td>\n",
       "      <td>1.0</td>\n",
       "      <td>20.0</td>\n",
       "      <td>800.0</td>\n",
       "      <td>NaN</td>\n",
       "      <td>1.0</td>\n",
       "      <td>1.0</td>\n",
       "      <td>2016.0</td>\n",
       "      <td>2.0</td>\n",
       "      <td>5.0</td>\n",
       "      <td>...</td>\n",
       "      <td>0.0</td>\n",
       "      <td>0.0</td>\n",
       "      <td>0.0</td>\n",
       "      <td>0.000000</td>\n",
       "      <td>-0.056281</td>\n",
       "      <td>-0.045795</td>\n",
       "      <td>0.0</td>\n",
       "      <td>0.0</td>\n",
       "      <td>0.0</td>\n",
       "      <td>0.0</td>\n",
       "    </tr>\n",
       "  </tbody>\n",
       "</table>\n",
       "<p>19699 rows × 87 columns</p>\n",
       "</div>"
      ],
      "text/plain": [
       "         PN  SECU  STRATUM   PWGTR  HCAP16WGTR  PINSAMP  PIWWAVE  PIWYEAR  \\\n",
       "HHID                                                                        \n",
       "010001  010   2.0      1.0  7558.0         NaN      1.0      1.0   2016.0   \n",
       "010003  030   2.0      1.0  6900.0         NaN      1.0      1.0   2016.0   \n",
       "010004  040   2.0      1.0  5836.0     17148.0      1.0      1.0   2016.0   \n",
       "010013  040   2.0      1.0  5768.0         NaN      1.0      1.0   2016.0   \n",
       "010038  010   2.0      2.0  6573.0     16431.0      1.0      1.0   2016.0   \n",
       "...     ...   ...      ...     ...         ...      ...      ...      ...   \n",
       "923525  010   1.0     51.0  1214.0         NaN      1.0      1.0   2016.0   \n",
       "923525  020   1.0     51.0  1477.0         NaN      1.0      1.0   2017.0   \n",
       "952836  010   2.0     12.0  1041.0         NaN      1.0      1.0   2016.0   \n",
       "958361  010   2.0      7.0  2028.0         NaN      1.0      1.0   2016.0   \n",
       "959738  010   1.0     20.0   800.0         NaN      1.0      1.0   2016.0   \n",
       "\n",
       "        PMARST  PNURSHM  ...  x3x4  x3x5  x3x6      x3x7      x4x5      x4x6  \\\n",
       "HHID                     ...                                                   \n",
       "010001     4.0      5.0  ...   0.0   0.0   0.0  0.000000 -0.056281 -0.045795   \n",
       "010003     3.0      5.0  ...   0.0   0.0   0.0  0.000000 -0.056281 -0.045795   \n",
       "010004     3.0      5.0  ...   0.0   0.0   0.0  0.000000 -0.056281 -0.045795   \n",
       "010013     2.0      5.0  ...   0.0   0.0   0.0  0.000000 -0.056281 -0.045795   \n",
       "010038     1.0      5.0  ...   0.0   0.0   0.0  0.006944 -0.056281 -0.045795   \n",
       "...        ...      ...  ...   ...   ...   ...       ...       ...       ...   \n",
       "923525     1.0      5.0  ...   0.0   0.0   0.0  0.000000  0.943719 -0.045795   \n",
       "923525     1.0      5.0  ...   0.0   0.0   0.0  0.000000 -0.056281 -0.045795   \n",
       "952836     2.0      5.0  ...   0.0   0.0   0.0 -0.000000 -0.056281  0.954205   \n",
       "958361     2.0      5.0  ...   0.0   0.0   0.0 -0.000000 -0.056281 -0.045795   \n",
       "959738     2.0      5.0  ...   0.0   0.0   0.0  0.000000 -0.056281 -0.045795   \n",
       "\n",
       "        x4x7  x5x6  x5x7  x6x7  \n",
       "HHID                            \n",
       "010001   0.0   0.0   0.0   0.0  \n",
       "010003   4.0   0.0   0.0   0.0  \n",
       "010004   0.0   0.0   0.0   0.0  \n",
       "010013   1.0   0.0   0.0   0.0  \n",
       "010038   0.0   0.0   0.0   0.0  \n",
       "...      ...   ...   ...   ...  \n",
       "923525   2.0   0.0   2.0   0.0  \n",
       "923525   0.0   0.0   0.0   0.0  \n",
       "952836  -6.0   0.0  -0.0  -6.0  \n",
       "958361  -0.0   0.0  -1.0  -0.0  \n",
       "959738   0.0   0.0   0.0   0.0  \n",
       "\n",
       "[19699 rows x 87 columns]"
      ]
     },
     "execution_count": 2,
     "metadata": {},
     "output_type": "execute_result"
    }
   ],
   "source": [
    "df_=pd.read_stata('../HRS-HCAP-Classification/HCAPHRS.dta')\n",
    "df_=df_.set_index('HHID')\n",
    "df_"
   ]
  },
  {
   "cell_type": "code",
   "execution_count": 3,
   "id": "a2feaa99-f7eb-4c93-9901-4126e105ee92",
   "metadata": {},
   "outputs": [
    {
     "data": {
      "text/plain": [
       "Index(['PN', 'SECU', 'STRATUM', 'PWGTR', 'HCAP16WGTR', 'PINSAMP', 'PIWWAVE',\n",
       "       'PIWYEAR', 'PMARST', 'PNURSHM', 'PPROXY', 'rage', 'PA019', 'PAGE',\n",
       "       'female', 'black', 'hisp', 'SCHLYRS', 'HISPANIC', 'RACE', 'vdori',\n",
       "       'vdlfl1z', 'vdlfl2', 'vdlfl3', 'vdwdimmz', 'vdwddelz', 'vdexf7z',\n",
       "       'vdsevens', 'vdcount', 'nPG014', 'nPG021', 'nPG023', 'nPG030', 'nPG040',\n",
       "       'nPG041', 'nPG044', 'nPG047', 'nPG050', 'nPG059', 'PD102', 'jorm',\n",
       "       'vs1hcapdx', 'vs1hcapdxeap', 'nonzeroweight', 'inHCAP', 'age65up',\n",
       "       'cogfunction2016', 'PrDem', 'PrCIND', 'PrNorm', 'Cog', 'CogSd',\n",
       "       'Hudomiet_classification', 'SCHLYRSimp', 'DEGREE', 'spage1', 'spage2',\n",
       "       'spage3', 'rage_cat', 'Sex', 'RaceAndEthnicity',\n",
       "       'Educational_Attainment', 'x1', 'x2', 'x3', 'x4', 'x5', 'x6', 'x7',\n",
       "       'x1x4', 'x1x5', 'x1x6', 'x1x7', 'x2x4', 'x2x5', 'x2x6', 'x2x7', 'x3x4',\n",
       "       'x3x5', 'x3x6', 'x3x7', 'x4x5', 'x4x6', 'x4x7', 'x5x6', 'x5x7', 'x6x7'],\n",
       "      dtype='object')"
      ]
     },
     "execution_count": 3,
     "metadata": {},
     "output_type": "execute_result"
    }
   ],
   "source": [
    "df_.columns"
   ]
  },
  {
   "cell_type": "code",
   "execution_count": 4,
   "id": "a1a70d5e-56c8-4474-b6a6-eb1206d9da63",
   "metadata": {},
   "outputs": [],
   "source": [
    "cols_ignore=['SECU', 'PN','STRATUM','PINSAMP', 'HCAP16WGTR','PIWWAVE',\n",
    "             'PIWYEAR','PPROXY','rage','PA019','PAGE','x1', 'x2', 'x3', 'x4', 'x5', 'x6', 'x7',\n",
    "       'x1x4', 'x1x5', 'x1x6', 'x1x7', 'x2x4', 'x2x5', 'x2x6', 'x2x7', 'x3x4',\n",
    "       'x3x5', 'x3x6', 'x3x7', 'x4x5', 'x4x6', 'x4x7', 'x5x6', 'x5x7', 'x6x7','SCHLYRSimp',\n",
    "          'spage1', 'spage2','spage3' ]"
   ]
  },
  {
   "cell_type": "code",
   "execution_count": 5,
   "id": "88cd0b19-de04-4472-93b8-fe43fa8d6095",
   "metadata": {},
   "outputs": [],
   "source": [
    "df_=df_[['rage', 'female', 'black', 'hisp', 'SCHLYRS', 'vdori', 'vdlfl1z',\n",
    "       'vdlfl2', 'vdlfl3', 'vdwdimmz', 'vdwddelz', 'vdexf7z', 'vdsevens',\n",
    "       'vdcount']]"
   ]
  },
  {
   "cell_type": "code",
   "execution_count": 6,
   "id": "d3a57412-3f5f-4910-809c-04bc6bf82f54",
   "metadata": {},
   "outputs": [
    {
     "data": {
      "text/plain": [
       "Index(['rage', 'female', 'black', 'hisp', 'SCHLYRS', 'vdori', 'vdlfl1z',\n",
       "       'vdlfl2', 'vdlfl3', 'vdwdimmz', 'vdwddelz', 'vdexf7z', 'vdsevens',\n",
       "       'vdcount'],\n",
       "      dtype='object')"
      ]
     },
     "execution_count": 6,
     "metadata": {},
     "output_type": "execute_result"
    }
   ],
   "source": [
    "df_.columns"
   ]
  },
  {
   "cell_type": "code",
   "execution_count": 7,
   "id": "eb3fecb1-36ac-4cc1-b553-beaf2b3bbf6e",
   "metadata": {},
   "outputs": [],
   "source": [
    "#df_['bineduc']=df_['Educational_Attainment'].isin(['Education beyond college','Some college'])+0\n",
    "#df_=df_.drop('Educational_Attainment',axis=1)"
   ]
  },
  {
   "cell_type": "code",
   "execution_count": 8,
   "id": "010fa27d-848b-4f14-9c68-2fcff67daca4",
   "metadata": {},
   "outputs": [
    {
     "data": {
      "text/html": [
       "<div>\n",
       "<style scoped>\n",
       "    .dataframe tbody tr th:only-of-type {\n",
       "        vertical-align: middle;\n",
       "    }\n",
       "\n",
       "    .dataframe tbody tr th {\n",
       "        vertical-align: top;\n",
       "    }\n",
       "\n",
       "    .dataframe thead th {\n",
       "        text-align: right;\n",
       "    }\n",
       "</style>\n",
       "<table border=\"1\" class=\"dataframe\">\n",
       "  <thead>\n",
       "    <tr style=\"text-align: right;\">\n",
       "      <th></th>\n",
       "      <th>rage</th>\n",
       "      <th>female</th>\n",
       "      <th>black</th>\n",
       "      <th>hisp</th>\n",
       "      <th>SCHLYRS</th>\n",
       "      <th>vdori</th>\n",
       "      <th>vdlfl1z</th>\n",
       "      <th>vdlfl2</th>\n",
       "      <th>vdlfl3</th>\n",
       "      <th>vdwdimmz</th>\n",
       "      <th>vdwddelz</th>\n",
       "      <th>vdexf7z</th>\n",
       "      <th>vdsevens</th>\n",
       "      <th>vdcount</th>\n",
       "    </tr>\n",
       "    <tr>\n",
       "      <th>HHID</th>\n",
       "      <th></th>\n",
       "      <th></th>\n",
       "      <th></th>\n",
       "      <th></th>\n",
       "      <th></th>\n",
       "      <th></th>\n",
       "      <th></th>\n",
       "      <th></th>\n",
       "      <th></th>\n",
       "      <th></th>\n",
       "      <th></th>\n",
       "      <th></th>\n",
       "      <th></th>\n",
       "      <th></th>\n",
       "    </tr>\n",
       "  </thead>\n",
       "  <tbody>\n",
       "    <tr>\n",
       "      <th>010001</th>\n",
       "      <td>75.08</td>\n",
       "      <td>0.0</td>\n",
       "      <td>0.0</td>\n",
       "      <td>0.0</td>\n",
       "      <td>12.0</td>\n",
       "      <td>4.0</td>\n",
       "      <td>0.080043</td>\n",
       "      <td>2.0</td>\n",
       "      <td>2.0</td>\n",
       "      <td>0.500000</td>\n",
       "      <td>0.500000</td>\n",
       "      <td>0.320041</td>\n",
       "      <td>4.0</td>\n",
       "      <td>1.0</td>\n",
       "    </tr>\n",
       "    <tr>\n",
       "      <th>010003</th>\n",
       "      <td>59.12</td>\n",
       "      <td>1.0</td>\n",
       "      <td>0.0</td>\n",
       "      <td>0.0</td>\n",
       "      <td>16.0</td>\n",
       "      <td>NaN</td>\n",
       "      <td>0.000051</td>\n",
       "      <td>NaN</td>\n",
       "      <td>NaN</td>\n",
       "      <td>0.500000</td>\n",
       "      <td>0.300051</td>\n",
       "      <td>0.440014</td>\n",
       "      <td>5.0</td>\n",
       "      <td>1.0</td>\n",
       "    </tr>\n",
       "    <tr>\n",
       "      <th>010004</th>\n",
       "      <td>70.52</td>\n",
       "      <td>1.0</td>\n",
       "      <td>0.0</td>\n",
       "      <td>0.0</td>\n",
       "      <td>12.0</td>\n",
       "      <td>4.0</td>\n",
       "      <td>0.280022</td>\n",
       "      <td>2.0</td>\n",
       "      <td>2.0</td>\n",
       "      <td>0.699957</td>\n",
       "      <td>0.699949</td>\n",
       "      <td>0.999887</td>\n",
       "      <td>4.0</td>\n",
       "      <td>1.0</td>\n",
       "    </tr>\n",
       "    <tr>\n",
       "      <th>010013</th>\n",
       "      <td>68.24</td>\n",
       "      <td>1.0</td>\n",
       "      <td>0.0</td>\n",
       "      <td>0.0</td>\n",
       "      <td>13.0</td>\n",
       "      <td>4.0</td>\n",
       "      <td>0.160034</td>\n",
       "      <td>2.0</td>\n",
       "      <td>2.0</td>\n",
       "      <td>0.500000</td>\n",
       "      <td>0.500000</td>\n",
       "      <td>0.679959</td>\n",
       "      <td>5.0</td>\n",
       "      <td>1.0</td>\n",
       "    </tr>\n",
       "    <tr>\n",
       "      <th>010038</th>\n",
       "      <td>79.64</td>\n",
       "      <td>0.0</td>\n",
       "      <td>0.0</td>\n",
       "      <td>0.0</td>\n",
       "      <td>16.0</td>\n",
       "      <td>3.0</td>\n",
       "      <td>0.160034</td>\n",
       "      <td>2.0</td>\n",
       "      <td>2.0</td>\n",
       "      <td>0.699957</td>\n",
       "      <td>0.599975</td>\n",
       "      <td>0.999887</td>\n",
       "      <td>5.0</td>\n",
       "      <td>1.0</td>\n",
       "    </tr>\n",
       "    <tr>\n",
       "      <th>...</th>\n",
       "      <td>...</td>\n",
       "      <td>...</td>\n",
       "      <td>...</td>\n",
       "      <td>...</td>\n",
       "      <td>...</td>\n",
       "      <td>...</td>\n",
       "      <td>...</td>\n",
       "      <td>...</td>\n",
       "      <td>...</td>\n",
       "      <td>...</td>\n",
       "      <td>...</td>\n",
       "      <td>...</td>\n",
       "      <td>...</td>\n",
       "      <td>...</td>\n",
       "    </tr>\n",
       "    <tr>\n",
       "      <th>923525</th>\n",
       "      <td>59.12</td>\n",
       "      <td>1.0</td>\n",
       "      <td>1.0</td>\n",
       "      <td>0.0</td>\n",
       "      <td>14.0</td>\n",
       "      <td>NaN</td>\n",
       "      <td>0.000051</td>\n",
       "      <td>NaN</td>\n",
       "      <td>NaN</td>\n",
       "      <td>0.599979</td>\n",
       "      <td>0.400025</td>\n",
       "      <td>0.000113</td>\n",
       "      <td>0.0</td>\n",
       "      <td>1.0</td>\n",
       "    </tr>\n",
       "    <tr>\n",
       "      <th>923525</th>\n",
       "      <td>61.40</td>\n",
       "      <td>0.0</td>\n",
       "      <td>1.0</td>\n",
       "      <td>0.0</td>\n",
       "      <td>12.0</td>\n",
       "      <td>NaN</td>\n",
       "      <td>0.000051</td>\n",
       "      <td>NaN</td>\n",
       "      <td>NaN</td>\n",
       "      <td>0.500000</td>\n",
       "      <td>0.200076</td>\n",
       "      <td>0.000113</td>\n",
       "      <td>1.0</td>\n",
       "      <td>1.0</td>\n",
       "    </tr>\n",
       "    <tr>\n",
       "      <th>952836</th>\n",
       "      <td>56.84</td>\n",
       "      <td>1.0</td>\n",
       "      <td>0.0</td>\n",
       "      <td>1.0</td>\n",
       "      <td>6.0</td>\n",
       "      <td>NaN</td>\n",
       "      <td>0.000051</td>\n",
       "      <td>NaN</td>\n",
       "      <td>NaN</td>\n",
       "      <td>0.599979</td>\n",
       "      <td>0.500000</td>\n",
       "      <td>0.599977</td>\n",
       "      <td>5.0</td>\n",
       "      <td>1.0</td>\n",
       "    </tr>\n",
       "    <tr>\n",
       "      <th>958361</th>\n",
       "      <td>50.00</td>\n",
       "      <td>0.0</td>\n",
       "      <td>1.0</td>\n",
       "      <td>0.0</td>\n",
       "      <td>11.0</td>\n",
       "      <td>NaN</td>\n",
       "      <td>0.000051</td>\n",
       "      <td>NaN</td>\n",
       "      <td>NaN</td>\n",
       "      <td>0.899915</td>\n",
       "      <td>0.799924</td>\n",
       "      <td>0.639968</td>\n",
       "      <td>2.0</td>\n",
       "      <td>1.0</td>\n",
       "    </tr>\n",
       "    <tr>\n",
       "      <th>959738</th>\n",
       "      <td>65.96</td>\n",
       "      <td>0.0</td>\n",
       "      <td>0.0</td>\n",
       "      <td>0.0</td>\n",
       "      <td>13.0</td>\n",
       "      <td>4.0</td>\n",
       "      <td>0.120038</td>\n",
       "      <td>2.0</td>\n",
       "      <td>2.0</td>\n",
       "      <td>0.400021</td>\n",
       "      <td>0.400025</td>\n",
       "      <td>0.919905</td>\n",
       "      <td>5.0</td>\n",
       "      <td>1.0</td>\n",
       "    </tr>\n",
       "  </tbody>\n",
       "</table>\n",
       "<p>19699 rows × 14 columns</p>\n",
       "</div>"
      ],
      "text/plain": [
       "         rage  female  black  hisp  SCHLYRS  vdori   vdlfl1z  vdlfl2  vdlfl3  \\\n",
       "HHID                                                                           \n",
       "010001  75.08     0.0    0.0   0.0     12.0    4.0  0.080043     2.0     2.0   \n",
       "010003  59.12     1.0    0.0   0.0     16.0    NaN  0.000051     NaN     NaN   \n",
       "010004  70.52     1.0    0.0   0.0     12.0    4.0  0.280022     2.0     2.0   \n",
       "010013  68.24     1.0    0.0   0.0     13.0    4.0  0.160034     2.0     2.0   \n",
       "010038  79.64     0.0    0.0   0.0     16.0    3.0  0.160034     2.0     2.0   \n",
       "...       ...     ...    ...   ...      ...    ...       ...     ...     ...   \n",
       "923525  59.12     1.0    1.0   0.0     14.0    NaN  0.000051     NaN     NaN   \n",
       "923525  61.40     0.0    1.0   0.0     12.0    NaN  0.000051     NaN     NaN   \n",
       "952836  56.84     1.0    0.0   1.0      6.0    NaN  0.000051     NaN     NaN   \n",
       "958361  50.00     0.0    1.0   0.0     11.0    NaN  0.000051     NaN     NaN   \n",
       "959738  65.96     0.0    0.0   0.0     13.0    4.0  0.120038     2.0     2.0   \n",
       "\n",
       "        vdwdimmz  vdwddelz   vdexf7z  vdsevens  vdcount  \n",
       "HHID                                                     \n",
       "010001  0.500000  0.500000  0.320041       4.0      1.0  \n",
       "010003  0.500000  0.300051  0.440014       5.0      1.0  \n",
       "010004  0.699957  0.699949  0.999887       4.0      1.0  \n",
       "010013  0.500000  0.500000  0.679959       5.0      1.0  \n",
       "010038  0.699957  0.599975  0.999887       5.0      1.0  \n",
       "...          ...       ...       ...       ...      ...  \n",
       "923525  0.599979  0.400025  0.000113       0.0      1.0  \n",
       "923525  0.500000  0.200076  0.000113       1.0      1.0  \n",
       "952836  0.599979  0.500000  0.599977       5.0      1.0  \n",
       "958361  0.899915  0.799924  0.639968       2.0      1.0  \n",
       "959738  0.400021  0.400025  0.919905       5.0      1.0  \n",
       "\n",
       "[19699 rows x 14 columns]"
      ]
     },
     "execution_count": 8,
     "metadata": {},
     "output_type": "execute_result"
    }
   ],
   "source": [
    "df=df_.copy()\n",
    "N=26\n",
    "# Step 1: Select columns with > N unique entries\n",
    "cols_to_process = [col for col in df.columns if df[col].nunique() > N]\n",
    "\n",
    "# Step 2: Round/cluster each selected column to N closest values\n",
    "for col in cols_to_process:\n",
    "    unique_vals = np.linspace(df[col].min(), df[col].max(), N)  # N evenly spaced values\n",
    "    df[col] = df[col].apply(lambda x: unique_vals[np.argmin(np.abs(unique_vals - x))])\n",
    "df"
   ]
  },
  {
   "cell_type": "code",
   "execution_count": 13,
   "id": "a40417e6-1b3e-4e5f-b16e-895ace192ee9",
   "metadata": {},
   "outputs": [],
   "source": [
    "df=df.astype(str).replace('nan','')"
   ]
  },
  {
   "cell_type": "code",
   "execution_count": 14,
   "id": "323df2f8-6694-4c25-ba47-debd78243be3",
   "metadata": {},
   "outputs": [],
   "source": [
    "S=10000\n",
    "df_training=df.sample(S)\n",
    "training_index=df_training.index.values\n",
    "df_test = df.drop(df_training.index)"
   ]
  },
  {
   "cell_type": "code",
   "execution_count": 15,
   "id": "b6c97cd4-eacd-4916-85e9-0ed8642ee1c2",
   "metadata": {},
   "outputs": [],
   "source": [
    "X=df_training.values.astype(str)\n",
    "feature_names=df_training.columns"
   ]
  },
  {
   "cell_type": "code",
   "execution_count": 16,
   "id": "6bb84967-7522-47f1-bfaa-fc05dcfb6a10",
   "metadata": {},
   "outputs": [],
   "source": [
    "from quasinet.qnet import load_qnet\n",
    "from quasinet.qnet import save_qnet\n",
    "from quasinet.qsampling import qsample\n",
    "from quasinet.qnet import qdistance, qdistance_matrix\n",
    "from quasinet.qnet import Qnet"
   ]
  },
  {
   "cell_type": "code",
   "execution_count": 17,
   "id": "f0c28ef4-7636-4b8e-95ac-bf5f018455f7",
   "metadata": {},
   "outputs": [
    {
     "name": "stdout",
     "output_type": "stream",
     "text": [
      "CPU times: user 15.6 s, sys: 173 ms, total: 15.8 s\n",
      "Wall time: 15.9 s\n"
     ]
    }
   ],
   "source": [
    "%%time\n",
    "model=Qnet(feature_names=feature_names,alpha=.15)\n",
    "model.fit(X)\n",
    "save_qnet(model,'modelrestricted',gz=True)"
   ]
  },
  {
   "cell_type": "code",
   "execution_count": 14,
   "id": "e2b6846f-8a77-4127-b4d3-001900fc388e",
   "metadata": {},
   "outputs": [],
   "source": [
    "model.training_index=training_index\n",
    "#save_qnet(model,'modelbin',gz=True)"
   ]
  },
  {
   "cell_type": "code",
   "execution_count": 18,
   "id": "66171c65-f4fd-45a2-b4a6-00fcff4867b6",
   "metadata": {},
   "outputs": [],
   "source": [
    "OUTDIR='treesrestricted/'\n",
    "modelpath='modelrestricted.gz'\n",
    "model=load_qnet(modelpath,gz=True)\n",
    "model.viz_trees(tree_path=OUTDIR,big_enough_threshold=1,format='png')"
   ]
  },
  {
   "cell_type": "code",
   "execution_count": 19,
   "id": "829d685a-51f1-4210-855c-722a0f64be71",
   "metadata": {},
   "outputs": [],
   "source": [
    "NULL=np.array(['']*len(feature_names)).astype('U100')"
   ]
  },
  {
   "cell_type": "code",
   "execution_count": 20,
   "id": "bc7bbbd1-ef57-4ed1-89bf-f4e3f554bb88",
   "metadata": {},
   "outputs": [],
   "source": [
    "X_test=df_test.values.astype(str)"
   ]
  },
  {
   "cell_type": "code",
   "execution_count": 21,
   "id": "fefec3fb-015c-41e7-b724-879266d7ac95",
   "metadata": {},
   "outputs": [],
   "source": [
    "def getbp(s):\n",
    "    # generate a vector summing to 1.0 with zeros where \n",
    "    # the response/observation is missing\n",
    "    # so that we can perturb only in entries which are non-missing\n",
    "    bp=np.ones(len(s))\n",
    "    bp[np.where(s=='')[0]]=0\n",
    "    return bp/bp.sum()"
   ]
  },
  {
   "cell_type": "code",
   "execution_count": 22,
   "id": "76f62ebe-cd98-477f-89bc-4fbce15d71d9",
   "metadata": {},
   "outputs": [],
   "source": [
    "N=1000\n",
    "steps=100"
   ]
  },
  {
   "cell_type": "code",
   "execution_count": 23,
   "id": "ccb4d1a7-c657-47c5-bfab-e60a76136c02",
   "metadata": {},
   "outputs": [
    {
     "name": "stderr",
     "output_type": "stream",
     "text": [
      "100%|███████████████████████████████████████| 1000/1000 [00:38<00:00, 26.16it/s]\n",
      "100%|██████████████████████████████████████| 1000/1000 [00:08<00:00, 118.49it/s]\n"
     ]
    }
   ],
   "source": [
    "# bad synthetic generation\n",
    "gensamples_bad=[qsample(s,model,steps=steps,alpha=-1,baseline_prob=getbp(s)) for s in tqdm(X_test[:N])]\n",
    "ngennoswapq_bad=np.array([qdistance(NULL,s,model,model) for s in tqdm(gensamples_bad)])\n",
    "gen_noswap_bad_df=pd.DataFrame(gensamples_bad,columns=feature_names)"
   ]
  },
  {
   "cell_type": "code",
   "execution_count": 24,
   "id": "c8e4909e-bede-4710-ab87-be0e80ef3284",
   "metadata": {},
   "outputs": [
    {
     "name": "stderr",
     "output_type": "stream",
     "text": [
      "100%|███████████████████████████████████████| 1000/1000 [00:38<00:00, 25.95it/s]\n",
      "100%|██████████████████████████████████████| 1000/1000 [00:08<00:00, 113.57it/s]\n"
     ]
    }
   ],
   "source": [
    "# LSM synthetic generation\n",
    "gensamples=[qsample(s,model,steps=steps,alpha=.97,baseline_prob=getbp(s)) for s in tqdm(X[:N])]\n",
    "ngennoswapq=np.array([qdistance(NULL,s,model,model) for s in tqdm(gensamples)])\n",
    "gen_noswap_df=pd.DataFrame(gensamples,columns=feature_names)\n"
   ]
  },
  {
   "cell_type": "code",
   "execution_count": 25,
   "id": "da199f27-e648-4151-bf67-75673f0f5e4f",
   "metadata": {},
   "outputs": [
    {
     "name": "stderr",
     "output_type": "stream",
     "text": [
      "100%|██████████████████████████████████████| 1000/1000 [00:08<00:00, 115.40it/s]\n"
     ]
    }
   ],
   "source": [
    "# original\n",
    "ngennoswap=np.array([qdistance(NULL,s,model,model) for s in tqdm(X_test[:N])])\n",
    "gen_test_df = pd.DataFrame(X_test[:N],columns=feature_names)"
   ]
  },
  {
   "cell_type": "code",
   "execution_count": 27,
   "id": "7bdad0ad-e330-4ddd-9515-59870ec55b00",
   "metadata": {},
   "outputs": [],
   "source": [
    "# reading synthpop data\n",
    "import pandas as pd\n",
    "import pyreadr\n",
    "\n",
    "# .rds typically stores a single object; grab the first/only value\n",
    "res = pyreadr.read_r(\"../../data/synthetic_datasets/synthetic_dataset_40.rds\")\n",
    "obj = next(iter(res.values()))\n",
    "\n",
    "# If it's a data.frame/tibble, this is a pandas DataFrame already\n",
    "if isinstance(obj, pd.DataFrame):\n",
    "    df = obj\n",
    "else:\n",
    "    # .rds can hold other objects (vector, list); convert as needed\n",
    "    # Example: turn an R vector into a DataFrame\n",
    "    df = pd.DataFrame(obj)\n",
    "\n",
    "dsynthpop=df.copy()"
   ]
  },
  {
   "cell_type": "code",
   "execution_count": 29,
   "id": "13a99a0f-75ee-4f82-b416-d52c4939555d",
   "metadata": {},
   "outputs": [],
   "source": [
    "tmp=dsynthpop.drop('rage',axis=1)\n",
    "Xsyn=pd.concat([pd.DataFrame(columns=feature_names),tmp]).astype(str).replace('nan','').drop('group',axis=1).values.astype(str)"
   ]
  },
  {
   "cell_type": "code",
   "execution_count": 30,
   "id": "53860384-560d-440e-abbc-33f2c0552ed9",
   "metadata": {},
   "outputs": [
    {
     "name": "stderr",
     "output_type": "stream",
     "text": [
      "100%|██████████████████████████████████████| 1000/1000 [00:08<00:00, 118.27it/s]\n"
     ]
    }
   ],
   "source": [
    "ngensynth=np.array([qdistance(NULL,s,model,model) for s in tqdm(Xsyn[:N])])"
   ]
  },
  {
   "cell_type": "code",
   "execution_count": 32,
   "id": "58de1b0f-e8e5-4de9-92d8-98cabb08235a",
   "metadata": {},
   "outputs": [
    {
     "data": {
      "text/plain": [
       "<matplotlib.legend.Legend at 0x7f310ac47230>"
      ]
     },
     "execution_count": 32,
     "metadata": {},
     "output_type": "execute_result"
    },
    {
     "data": {
      "image/png": "[encoded data removed]",
      "text/plain": [
       "<Figure size 640x480 with 1 Axes>"
      ]
     },
     "metadata": {},
     "output_type": "display_data"
    }
   ],
   "source": [
    "import seaborn as sns\n",
    "import pylab as plt\n",
    "sns.distplot(ngennoswap,label='original')\n",
    "sns.distplot(ngennoswapq,label='LSM synthetic')\n",
    "#sns.distplot(ngennoswapq_bad,label='bad synthetic')\n",
    "sns.distplot(ngensynth,label='synthpop')\n",
    "plt.legend()"
   ]
  },
  {
   "cell_type": "code",
   "execution_count": 33,
   "id": "bd5c3239-f1d9-4b61-8b2b-260aee46cd21",
   "metadata": {},
   "outputs": [
    {
     "name": "stdout",
     "output_type": "stream",
     "text": [
      "comparing original and synthetic data\n",
      "KS Statistic: 0.0780, p-value: 0.004544\n",
      "Fail to reject null hypothesis: distributions are similar.\n"
     ]
    }
   ],
   "source": [
    "from scipy.stats import ks_2samp\n",
    "\n",
    "alpha=1e-5\n",
    "# KS two-sample test\n",
    "stat, p_val = ks_2samp(ngennoswap,ngennoswapq)\n",
    "print('comparing original and synthetic data')\n",
    "print(f\"KS Statistic: {stat:.4f}, p-value: {p_val:.4g}\")\n",
    "\n",
    "if p_val < alpha:\n",
    "    print(\"Reject null hypothesis: distributions differ.\")\n",
    "else:\n",
    "    print(\"Fail to reject null hypothesis: distributions are similar.\")"
   ]
  },
  {
   "cell_type": "code",
   "execution_count": 62,
   "id": "a64e82a5-46be-4330-aaff-89bec6f6fdea",
   "metadata": {},
   "outputs": [
    {
     "name": "stdout",
     "output_type": "stream",
     "text": [
      "comparing bad-synthetic and synthetic data\n",
      "KS Statistic: 0.7070, p-value: 1.724e-240\n",
      "Reject null hypothesis: distributions differ.\n"
     ]
    }
   ],
   "source": [
    "stat, p_val = ks_2samp(ngennoswapq_bad,ngennoswapq)\n",
    "print('comparing bad-synthetic and synthetic data')\n",
    "print(f\"KS Statistic: {stat:.4f}, p-value: {p_val:.4g}\")\n",
    "\n",
    "if p_val < alpha:\n",
    "    print(\"Reject null hypothesis: distributions differ.\")\n",
    "else:\n",
    "    print(\"Fail to reject null hypothesis: distributions are similar.\")"
   ]
  },
  {
   "cell_type": "code",
   "execution_count": 35,
   "id": "028c23b4-8799-4b4a-adc9-98caa701fbb7",
   "metadata": {},
   "outputs": [],
   "source": [
    "# synthetic dataframe\n",
    "Ds_=gen_noswap_df\n",
    "# original dataframe \n",
    "D_=df_training.sample(1000)"
   ]
  },
  {
   "cell_type": "code",
   "execution_count": 50,
   "id": "87b7f911-c528-4fe2-a3b4-43cf245ae418",
   "metadata": {},
   "outputs": [],
   "source": [
    "# Function to try numeric conversion only if column looks numeric\n",
    "def safe_to_float(series):\n",
    "    try:\n",
    "        # Try converting; if all values become NaN, keep original\n",
    "        converted = pd.to_numeric(series.replace('', np.nan), errors='coerce')\n",
    "        if converted.notna().sum() > 0:\n",
    "            return converted\n",
    "        else:\n",
    "            return series\n",
    "    except:\n",
    "        return series\n",
    "\n",
    "# Apply column-wise\n",
    "D=D_.apply(safe_to_float)\n",
    "Ds=Ds_.apply(safe_to_float)\n",
    "Dsynthpop=dsynthpop.apply(safe_to_float)\n"
   ]
  },
  {
   "cell_type": "code",
   "execution_count": 57,
   "id": "d77ea9ee-2550-41fb-a2de-33725388f8bd",
   "metadata": {},
   "outputs": [],
   "source": [
    "Dm=D.mean(numeric_only=True)/D.std(numeric_only=True)\n",
    "Dsm=Ds.mean(numeric_only=True)/Ds.std(numeric_only=True)\n",
    "Dsynthpopm=Dsynthpop.mean(numeric_only=True)/Dsynthpop.std(numeric_only=True)\n",
    "deltaLSM=Dsm-Dm\n",
    "deltaSynthpop=Dsynthpopm-Dm"
   ]
  },
  {
   "cell_type": "code",
   "execution_count": 55,
   "id": "db1d0d58-9c5d-4c9a-a2e3-53ef60577e3f",
   "metadata": {},
   "outputs": [],
   "source": []
  },
  {
   "cell_type": "code",
   "execution_count": 63,
   "id": "09778be5-a653-474c-adbd-05d2e95c200a",
   "metadata": {},
   "outputs": [
    {
     "name": "stdout",
     "output_type": "stream",
     "text": [
      "delta\n"
     ]
    },
    {
     "data": {
      "image/png": "[encoded data removed]",
      "text/plain": [
       "<Figure size 640x480 with 1 Axes>"
      ]
     },
     "metadata": {},
     "output_type": "display_data"
    }
   ],
   "source": [
    "print('delta')\n",
    "deltadf=pd.DataFrame({'Dlsm':deltaLSM,'Dsynthpop':deltaSynthpop}).sort_values('Dsynthpop')\n",
    "deltadf.plot(kind='bar')\n",
    "plt.gca().set_title('mean/std deviation from original data')\n",
    "#print('std')\n",
    "#pd.DataFrame({'D':Dv,'Dlsm':Dsv,'Dsynthpop':Dsynthpopv}).plot(kind='bar')\n",
    "plt.savefig('complsmsynthpop.png',dpi=300)"
   ]
  },
  {
   "cell_type": "code",
   "execution_count": null,
   "id": "a25daab7-9d13-4bca-afd9-1f39712d6c55",
   "metadata": {},
   "outputs": [],
   "source": []
  },
  {
   "cell_type": "code",
   "execution_count": 40,
   "id": "4e2b5614-1453-4c77-90eb-891ca0eae914",
   "metadata": {},
   "outputs": [
    {
     "data": {
      "text/plain": [
       "Index(['rage', 'female', 'black', 'hisp', 'SCHLYRS', 'vdori', 'vdlfl1z',\n",
       "       'vdlfl2', 'vdlfl3', 'vdwdimmz', 'vdwddelz', 'vdexf7z', 'vdsevens',\n",
       "       'vdcount', 'group'],\n",
       "      dtype='object')"
      ]
     },
     "execution_count": 40,
     "metadata": {},
     "output_type": "execute_result"
    }
   ],
   "source": [
    "dsynthpop.columns"
   ]
  },
  {
   "cell_type": "code",
   "execution_count": 41,
   "id": "480b1349-2800-412c-b3cf-c944e38a0ccf",
   "metadata": {},
   "outputs": [
    {
     "data": {
      "text/plain": [
       "Index(['rage', 'female', 'black', 'hisp', 'SCHLYRS', 'vdori', 'vdlfl1z',\n",
       "       'vdlfl2', 'vdlfl3', 'vdwdimmz', 'vdwddelz', 'vdexf7z', 'vdsevens',\n",
       "       'vdcount'],\n",
       "      dtype='object')"
      ]
     },
     "execution_count": 41,
     "metadata": {},
     "output_type": "execute_result"
    }
   ],
   "source": [
    "feature_names"
   ]
  },
  {
   "cell_type": "code",
   "execution_count": 42,
   "id": "c3d219b0-36e5-4765-b952-325cac6b9cca",
   "metadata": {},
   "outputs": [
    {
     "data": {
      "text/plain": [
       "0.3985081652274783"
      ]
     },
     "execution_count": 42,
     "metadata": {},
     "output_type": "execute_result"
    }
   ],
   "source": [
    "dsynthpop.vdwddelz.mean()"
   ]
  },
  {
   "cell_type": "code",
   "execution_count": 43,
   "id": "70786c89-14c8-45bc-9e5a-68c571cea602",
   "metadata": {},
   "outputs": [
    {
     "data": {
      "text/plain": [
       "0.42595244520866343"
      ]
     },
     "execution_count": 43,
     "metadata": {},
     "output_type": "execute_result"
    }
   ],
   "source": [
    "D.vdwddelz.mean()"
   ]
  },
  {
   "cell_type": "code",
   "execution_count": 44,
   "id": "1e31007d-5c75-446a-ad41-eae784b2fdbb",
   "metadata": {},
   "outputs": [
    {
     "data": {
      "text/plain": [
       "0.42249630126758414"
      ]
     },
     "execution_count": 44,
     "metadata": {},
     "output_type": "execute_result"
    }
   ],
   "source": [
    "Ds.vdwddelz.mean()"
   ]
  },
  {
   "cell_type": "code",
   "execution_count": 45,
   "id": "6b73573b-6a69-4546-b5c5-f4618a66fd85",
   "metadata": {},
   "outputs": [
    {
     "data": {
      "text/plain": [
       "<matplotlib.legend.Legend at 0x7f3108697da0>"
      ]
     },
     "execution_count": 45,
     "metadata": {},
     "output_type": "execute_result"
    },
    {
     "data": {
      "image/png": "[encoded data removed]",
      "text/plain": [
       "<Figure size 640x480 with 1 Axes>"
      ]
     },
     "metadata": {},
     "output_type": "display_data"
    }
   ],
   "source": [
    "sns.distplot(dsynthpop.sample(1000).vdwddelz,label='synthpop')\n",
    "sns.distplot(D.vdwddelz,label='original')\n",
    "sns.distplot(Ds.vdwddelz,label='lsm')\n",
    "plt.legend()"
   ]
  },
  {
   "cell_type": "code",
   "execution_count": 46,
   "id": "be0000bc-9f57-4828-8fd8-2cdd55e76c2f",
   "metadata": {},
   "outputs": [
    {
     "data": {
      "text/plain": [
       "<matplotlib.legend.Legend at 0x7f31084eb6b0>"
      ]
     },
     "execution_count": 46,
     "metadata": {},
     "output_type": "execute_result"
    },
    {
     "data": {
      "image/png": "[encoded data removed]",
      "text/plain": [
       "<Figure size 640x480 with 1 Axes>"
      ]
     },
     "metadata": {},
     "output_type": "display_data"
    }
   ],
   "source": [
    "sns.distplot(dsynthpop.sample(1000).vdori,label='synthpop')\n",
    "sns.distplot(D.vdori,label='original')\n",
    "sns.distplot(Ds.vdori,label='lsm')\n",
    "plt.legend()"
   ]
  },
  {
   "cell_type": "code",
   "execution_count": 47,
   "id": "06c1d353-e88d-4306-9b9b-c6fbed7f1930",
   "metadata": {},
   "outputs": [
    {
     "data": {
      "text/html": [
       "<div>\n",
       "<style scoped>\n",
       "    .dataframe tbody tr th:only-of-type {\n",
       "        vertical-align: middle;\n",
       "    }\n",
       "\n",
       "    .dataframe tbody tr th {\n",
       "        vertical-align: top;\n",
       "    }\n",
       "\n",
       "    .dataframe thead th {\n",
       "        text-align: right;\n",
       "    }\n",
       "</style>\n",
       "<table border=\"1\" class=\"dataframe\">\n",
       "  <thead>\n",
       "    <tr style=\"text-align: right;\">\n",
       "      <th></th>\n",
       "      <th>rage</th>\n",
       "      <th>female</th>\n",
       "      <th>black</th>\n",
       "      <th>hisp</th>\n",
       "      <th>SCHLYRS</th>\n",
       "      <th>vdori</th>\n",
       "      <th>vdlfl1z</th>\n",
       "      <th>vdlfl2</th>\n",
       "      <th>vdlfl3</th>\n",
       "      <th>vdwdimmz</th>\n",
       "      <th>vdwddelz</th>\n",
       "      <th>vdexf7z</th>\n",
       "      <th>vdsevens</th>\n",
       "      <th>vdcount</th>\n",
       "    </tr>\n",
       "  </thead>\n",
       "  <tbody>\n",
       "    <tr>\n",
       "      <th>rage</th>\n",
       "      <td>1.000000</td>\n",
       "      <td>0.014401</td>\n",
       "      <td>-0.078852</td>\n",
       "      <td>-0.100093</td>\n",
       "      <td>-0.124402</td>\n",
       "      <td>-0.194997</td>\n",
       "      <td>0.048628</td>\n",
       "      <td>-0.051671</td>\n",
       "      <td>-0.005566</td>\n",
       "      <td>-0.283164</td>\n",
       "      <td>-0.258052</td>\n",
       "      <td>-0.290283</td>\n",
       "      <td>-0.097208</td>\n",
       "      <td>-0.120560</td>\n",
       "    </tr>\n",
       "    <tr>\n",
       "      <th>female</th>\n",
       "      <td>0.014401</td>\n",
       "      <td>1.000000</td>\n",
       "      <td>0.009793</td>\n",
       "      <td>0.028520</td>\n",
       "      <td>-0.013404</td>\n",
       "      <td>0.095400</td>\n",
       "      <td>-0.112952</td>\n",
       "      <td>-0.042603</td>\n",
       "      <td>-0.092001</td>\n",
       "      <td>0.079743</td>\n",
       "      <td>0.083358</td>\n",
       "      <td>-0.070426</td>\n",
       "      <td>-0.115411</td>\n",
       "      <td>0.043477</td>\n",
       "    </tr>\n",
       "    <tr>\n",
       "      <th>black</th>\n",
       "      <td>-0.078852</td>\n",
       "      <td>0.009793</td>\n",
       "      <td>1.000000</td>\n",
       "      <td>-0.229190</td>\n",
       "      <td>-0.051223</td>\n",
       "      <td>0.001037</td>\n",
       "      <td>-0.095369</td>\n",
       "      <td>-0.196367</td>\n",
       "      <td>-0.073842</td>\n",
       "      <td>-0.072551</td>\n",
       "      <td>-0.166459</td>\n",
       "      <td>-0.167627</td>\n",
       "      <td>-0.186396</td>\n",
       "      <td>-0.073538</td>\n",
       "    </tr>\n",
       "    <tr>\n",
       "      <th>hisp</th>\n",
       "      <td>-0.100093</td>\n",
       "      <td>0.028520</td>\n",
       "      <td>-0.229190</td>\n",
       "      <td>1.000000</td>\n",
       "      <td>-0.324666</td>\n",
       "      <td>-0.109427</td>\n",
       "      <td>-0.091293</td>\n",
       "      <td>-0.136604</td>\n",
       "      <td>-0.305504</td>\n",
       "      <td>-0.141099</td>\n",
       "      <td>-0.045493</td>\n",
       "      <td>-0.236755</td>\n",
       "      <td>-0.185362</td>\n",
       "      <td>-0.101370</td>\n",
       "    </tr>\n",
       "    <tr>\n",
       "      <th>SCHLYRS</th>\n",
       "      <td>-0.124402</td>\n",
       "      <td>-0.013404</td>\n",
       "      <td>-0.051223</td>\n",
       "      <td>-0.324666</td>\n",
       "      <td>1.000000</td>\n",
       "      <td>0.203799</td>\n",
       "      <td>0.086938</td>\n",
       "      <td>0.241474</td>\n",
       "      <td>0.394459</td>\n",
       "      <td>0.389206</td>\n",
       "      <td>0.328333</td>\n",
       "      <td>0.488465</td>\n",
       "      <td>0.414142</td>\n",
       "      <td>0.219535</td>\n",
       "    </tr>\n",
       "    <tr>\n",
       "      <th>vdori</th>\n",
       "      <td>-0.194997</td>\n",
       "      <td>0.095400</td>\n",
       "      <td>0.001037</td>\n",
       "      <td>-0.109427</td>\n",
       "      <td>0.203799</td>\n",
       "      <td>1.000000</td>\n",
       "      <td>0.237518</td>\n",
       "      <td>0.218476</td>\n",
       "      <td>0.274347</td>\n",
       "      <td>0.271341</td>\n",
       "      <td>0.250913</td>\n",
       "      <td>0.260215</td>\n",
       "      <td>0.279777</td>\n",
       "      <td>0.224402</td>\n",
       "    </tr>\n",
       "    <tr>\n",
       "      <th>vdlfl1z</th>\n",
       "      <td>0.048628</td>\n",
       "      <td>-0.112952</td>\n",
       "      <td>-0.095369</td>\n",
       "      <td>-0.091293</td>\n",
       "      <td>0.086938</td>\n",
       "      <td>0.237518</td>\n",
       "      <td>1.000000</td>\n",
       "      <td>0.303648</td>\n",
       "      <td>0.248724</td>\n",
       "      <td>0.052340</td>\n",
       "      <td>0.040411</td>\n",
       "      <td>0.159754</td>\n",
       "      <td>0.110975</td>\n",
       "      <td>0.059674</td>\n",
       "    </tr>\n",
       "    <tr>\n",
       "      <th>vdlfl2</th>\n",
       "      <td>-0.051671</td>\n",
       "      <td>-0.042603</td>\n",
       "      <td>-0.196367</td>\n",
       "      <td>-0.136604</td>\n",
       "      <td>0.241474</td>\n",
       "      <td>0.218476</td>\n",
       "      <td>0.303648</td>\n",
       "      <td>1.000000</td>\n",
       "      <td>0.233989</td>\n",
       "      <td>0.267570</td>\n",
       "      <td>0.268077</td>\n",
       "      <td>0.309137</td>\n",
       "      <td>0.268951</td>\n",
       "      <td>0.127580</td>\n",
       "    </tr>\n",
       "    <tr>\n",
       "      <th>vdlfl3</th>\n",
       "      <td>-0.005566</td>\n",
       "      <td>-0.092001</td>\n",
       "      <td>-0.073842</td>\n",
       "      <td>-0.305504</td>\n",
       "      <td>0.394459</td>\n",
       "      <td>0.274347</td>\n",
       "      <td>0.248724</td>\n",
       "      <td>0.233989</td>\n",
       "      <td>1.000000</td>\n",
       "      <td>0.255211</td>\n",
       "      <td>0.291318</td>\n",
       "      <td>0.412525</td>\n",
       "      <td>0.364865</td>\n",
       "      <td>0.223044</td>\n",
       "    </tr>\n",
       "    <tr>\n",
       "      <th>vdwdimmz</th>\n",
       "      <td>-0.283164</td>\n",
       "      <td>0.079743</td>\n",
       "      <td>-0.072551</td>\n",
       "      <td>-0.141099</td>\n",
       "      <td>0.389206</td>\n",
       "      <td>0.271341</td>\n",
       "      <td>0.052340</td>\n",
       "      <td>0.267570</td>\n",
       "      <td>0.255211</td>\n",
       "      <td>1.000000</td>\n",
       "      <td>0.739755</td>\n",
       "      <td>0.406768</td>\n",
       "      <td>0.310220</td>\n",
       "      <td>0.216068</td>\n",
       "    </tr>\n",
       "    <tr>\n",
       "      <th>vdwddelz</th>\n",
       "      <td>-0.258052</td>\n",
       "      <td>0.083358</td>\n",
       "      <td>-0.166459</td>\n",
       "      <td>-0.045493</td>\n",
       "      <td>0.328333</td>\n",
       "      <td>0.250913</td>\n",
       "      <td>0.040411</td>\n",
       "      <td>0.268077</td>\n",
       "      <td>0.291318</td>\n",
       "      <td>0.739755</td>\n",
       "      <td>1.000000</td>\n",
       "      <td>0.375715</td>\n",
       "      <td>0.313604</td>\n",
       "      <td>0.194124</td>\n",
       "    </tr>\n",
       "    <tr>\n",
       "      <th>vdexf7z</th>\n",
       "      <td>-0.290283</td>\n",
       "      <td>-0.070426</td>\n",
       "      <td>-0.167627</td>\n",
       "      <td>-0.236755</td>\n",
       "      <td>0.488465</td>\n",
       "      <td>0.260215</td>\n",
       "      <td>0.159754</td>\n",
       "      <td>0.309137</td>\n",
       "      <td>0.412525</td>\n",
       "      <td>0.406768</td>\n",
       "      <td>0.375715</td>\n",
       "      <td>1.000000</td>\n",
       "      <td>0.526186</td>\n",
       "      <td>0.244988</td>\n",
       "    </tr>\n",
       "    <tr>\n",
       "      <th>vdsevens</th>\n",
       "      <td>-0.097208</td>\n",
       "      <td>-0.115411</td>\n",
       "      <td>-0.186396</td>\n",
       "      <td>-0.185362</td>\n",
       "      <td>0.414142</td>\n",
       "      <td>0.279777</td>\n",
       "      <td>0.110975</td>\n",
       "      <td>0.268951</td>\n",
       "      <td>0.364865</td>\n",
       "      <td>0.310220</td>\n",
       "      <td>0.313604</td>\n",
       "      <td>0.526186</td>\n",
       "      <td>1.000000</td>\n",
       "      <td>0.262975</td>\n",
       "    </tr>\n",
       "    <tr>\n",
       "      <th>vdcount</th>\n",
       "      <td>-0.120560</td>\n",
       "      <td>0.043477</td>\n",
       "      <td>-0.073538</td>\n",
       "      <td>-0.101370</td>\n",
       "      <td>0.219535</td>\n",
       "      <td>0.224402</td>\n",
       "      <td>0.059674</td>\n",
       "      <td>0.127580</td>\n",
       "      <td>0.223044</td>\n",
       "      <td>0.216068</td>\n",
       "      <td>0.194124</td>\n",
       "      <td>0.244988</td>\n",
       "      <td>0.262975</td>\n",
       "      <td>1.000000</td>\n",
       "    </tr>\n",
       "  </tbody>\n",
       "</table>\n",
       "</div>"
      ],
      "text/plain": [
       "              rage    female     black      hisp   SCHLYRS     vdori  \\\n",
       "rage      1.000000  0.014401 -0.078852 -0.100093 -0.124402 -0.194997   \n",
       "female    0.014401  1.000000  0.009793  0.028520 -0.013404  0.095400   \n",
       "black    -0.078852  0.009793  1.000000 -0.229190 -0.051223  0.001037   \n",
       "hisp     -0.100093  0.028520 -0.229190  1.000000 -0.324666 -0.109427   \n",
       "SCHLYRS  -0.124402 -0.013404 -0.051223 -0.324666  1.000000  0.203799   \n",
       "vdori    -0.194997  0.095400  0.001037 -0.109427  0.203799  1.000000   \n",
       "vdlfl1z   0.048628 -0.112952 -0.095369 -0.091293  0.086938  0.237518   \n",
       "vdlfl2   -0.051671 -0.042603 -0.196367 -0.136604  0.241474  0.218476   \n",
       "vdlfl3   -0.005566 -0.092001 -0.073842 -0.305504  0.394459  0.274347   \n",
       "vdwdimmz -0.283164  0.079743 -0.072551 -0.141099  0.389206  0.271341   \n",
       "vdwddelz -0.258052  0.083358 -0.166459 -0.045493  0.328333  0.250913   \n",
       "vdexf7z  -0.290283 -0.070426 -0.167627 -0.236755  0.488465  0.260215   \n",
       "vdsevens -0.097208 -0.115411 -0.186396 -0.185362  0.414142  0.279777   \n",
       "vdcount  -0.120560  0.043477 -0.073538 -0.101370  0.219535  0.224402   \n",
       "\n",
       "           vdlfl1z    vdlfl2    vdlfl3  vdwdimmz  vdwddelz   vdexf7z  \\\n",
       "rage      0.048628 -0.051671 -0.005566 -0.283164 -0.258052 -0.290283   \n",
       "female   -0.112952 -0.042603 -0.092001  0.079743  0.083358 -0.070426   \n",
       "black    -0.095369 -0.196367 -0.073842 -0.072551 -0.166459 -0.167627   \n",
       "hisp     -0.091293 -0.136604 -0.305504 -0.141099 -0.045493 -0.236755   \n",
       "SCHLYRS   0.086938  0.241474  0.394459  0.389206  0.328333  0.488465   \n",
       "vdori     0.237518  0.218476  0.274347  0.271341  0.250913  0.260215   \n",
       "vdlfl1z   1.000000  0.303648  0.248724  0.052340  0.040411  0.159754   \n",
       "vdlfl2    0.303648  1.000000  0.233989  0.267570  0.268077  0.309137   \n",
       "vdlfl3    0.248724  0.233989  1.000000  0.255211  0.291318  0.412525   \n",
       "vdwdimmz  0.052340  0.267570  0.255211  1.000000  0.739755  0.406768   \n",
       "vdwddelz  0.040411  0.268077  0.291318  0.739755  1.000000  0.375715   \n",
       "vdexf7z   0.159754  0.309137  0.412525  0.406768  0.375715  1.000000   \n",
       "vdsevens  0.110975  0.268951  0.364865  0.310220  0.313604  0.526186   \n",
       "vdcount   0.059674  0.127580  0.223044  0.216068  0.194124  0.244988   \n",
       "\n",
       "          vdsevens   vdcount  \n",
       "rage     -0.097208 -0.120560  \n",
       "female   -0.115411  0.043477  \n",
       "black    -0.186396 -0.073538  \n",
       "hisp     -0.185362 -0.101370  \n",
       "SCHLYRS   0.414142  0.219535  \n",
       "vdori     0.279777  0.224402  \n",
       "vdlfl1z   0.110975  0.059674  \n",
       "vdlfl2    0.268951  0.127580  \n",
       "vdlfl3    0.364865  0.223044  \n",
       "vdwdimmz  0.310220  0.216068  \n",
       "vdwddelz  0.313604  0.194124  \n",
       "vdexf7z   0.526186  0.244988  \n",
       "vdsevens  1.000000  0.262975  \n",
       "vdcount   0.262975  1.000000  "
      ]
     },
     "execution_count": 47,
     "metadata": {},
     "output_type": "execute_result"
    }
   ],
   "source": [
    "D.corr(numeric_only=True)"
   ]
  },
  {
   "cell_type": "code",
   "execution_count": 49,
   "id": "22d32d0e-9359-4037-a380-5a0cc5b35be8",
   "metadata": {},
   "outputs": [
    {
     "name": "stderr",
     "output_type": "stream",
     "text": [
      "100%|█████████████████████████████████████| 10000/10000 [06:21<00:00, 26.22it/s]\n"
     ]
    }
   ],
   "source": [
    "gensamples_big=[qsample(s,model,steps=steps,alpha=.97,baseline_prob=getbp(s)) for s in tqdm(X[:10000])]\n",
    "lsm_synthetic_df=pd.DataFrame(gensamples_big,columns=feature_names)\n",
    "lsm_synthetic_df.to_csv('LSM_synthetic.csv')"
   ]
  },
  {
   "cell_type": "code",
   "execution_count": null,
   "id": "50e61519-6340-4e20-93ee-b8fd98c51c9a",
   "metadata": {},
   "outputs": [],
   "source": []
  }
 ],
 "metadata": {
  "kernelspec": {
   "display_name": "Python 3 (ipykernel)",
   "language": "python",
   "name": "python3"
  },
  "language_info": {
   "codemirror_mode": {
    "name": "ipython",
    "version": 3
   },
   "file_extension": ".py",
   "mimetype": "text/x-python",
   "name": "python",
   "nbconvert_exporter": "python",
   "pygments_lexer": "ipython3",
   "version": "3.12.10"
  }
 },
 "nbformat": 4,
 "nbformat_minor": 5
}
